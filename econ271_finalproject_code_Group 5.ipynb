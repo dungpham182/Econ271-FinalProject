{
 "cells": [
  {
   "cell_type": "code",
   "execution_count": 2,
   "metadata": {},
   "outputs": [],
   "source": [
    "#### FINAL PROJECT REPORT ####"
   ]
  },
  {
   "cell_type": "code",
   "execution_count": 3,
   "metadata": {},
   "outputs": [],
   "source": [
    "# First, before using data for regression analysis, let's clean the data!"
   ]
  },
  {
   "cell_type": "code",
   "execution_count": 106,
   "metadata": {},
   "outputs": [
    {
     "name": "stdout",
     "output_type": "stream",
     "text": [
      "(2959, 16)\n",
      "id                                  int64\n",
      "name                               object\n",
      "host_id                             int64\n",
      "host_name                          object\n",
      "neighbourhood_group               float64\n",
      "neighbourhood                      object\n",
      "latitude                          float64\n",
      "longitude                         float64\n",
      "room_type                          object\n",
      "price                               int64\n",
      "minimum_nights                      int64\n",
      "number_of_reviews                   int64\n",
      "last_review                        object\n",
      "reviews_per_month                 float64\n",
      "calculated_host_listings_count      int64\n",
      "availability_365                    int64\n",
      "dtype: object\n"
     ]
    }
   ],
   "source": [
    "#IMPORT ALL TOOLS\n",
    "import pandas as pd\n",
    "import numpy as np\n",
    "import seaborn as sns\n",
    "import matplotlib.pyplot as plt\n",
    "%matplotlib inline\n",
    "\n",
    "#READ DATA\n",
    "listings = pd.read_csv('listings.csv') #load data\n",
    "print(listings.shape) #read shape of data\n",
    "print(listings.dtypes) #read datatype"
   ]
  },
  {
   "cell_type": "code",
   "execution_count": 107,
   "metadata": {},
   "outputs": [
    {
     "name": "stdout",
     "output_type": "stream",
     "text": [
      "['id' 'host_id' 'neighbourhood_group' 'latitude' 'longitude' 'price'\n",
      " 'minimum_nights' 'number_of_reviews' 'reviews_per_month'\n",
      " 'calculated_host_listings_count' 'availability_365']\n",
      "            id    host_id  neighbourhood_group   latitude  longitude  price  \\\n",
      "0         3781       4804                  NaN  42.364130 -71.029910    125   \n",
      "1         6695       8229                  NaN  42.329940 -71.093510    169   \n",
      "2        10813      38997                  NaN  42.350610 -71.087870     70   \n",
      "3        10986      38997                  NaN  42.363520 -71.050750     73   \n",
      "4        13247      51637                  NaN  42.351640 -71.087520     75   \n",
      "...        ...        ...                  ...        ...        ...    ...   \n",
      "2954  48211443  278520291                  NaN  42.265340 -71.096310     40   \n",
      "2955  48228283  316148588                  NaN  42.356210 -71.061890     74   \n",
      "2956  48228309  316148588                  NaN  42.354230 -71.061620     64   \n",
      "2957  48231177  316148588                  NaN  42.356100 -71.063020     77   \n",
      "2958  48231284  316148588                  NaN  42.354836 -71.061621    116   \n",
      "\n",
      "      minimum_nights  number_of_reviews  reviews_per_month  \\\n",
      "0                 29                 18               0.26   \n",
      "1                 29                115               0.82   \n",
      "2                 29                  5               0.09   \n",
      "3                 29                  2               0.03   \n",
      "4                 91                  0                NaN   \n",
      "...              ...                ...                ...   \n",
      "2954               1                  0                NaN   \n",
      "2955               2                  0                NaN   \n",
      "2956               2                  0                NaN   \n",
      "2957               2                  0                NaN   \n",
      "2958               2                  0                NaN   \n",
      "\n",
      "      calculated_host_listings_count  availability_365  \n",
      "0                                  1               224  \n",
      "1                                  4                 0  \n",
      "2                                 11               364  \n",
      "3                                 11               364  \n",
      "4                                  2                 0  \n",
      "...                              ...               ...  \n",
      "2954                               3               350  \n",
      "2955                               4               347  \n",
      "2956                               4               104  \n",
      "2957                               4                65  \n",
      "2958                               4                62  \n",
      "\n",
      "[2959 rows x 11 columns]\n"
     ]
    }
   ],
   "source": [
    "listings_numeric = listings.select_dtypes(include='number') #creates a dataframe listings_numeric using select_dtypes()\n",
    "numeric_cols = listings_numeric.columns.values #just retrieve the names of the columns from listings_numeric\n",
    "print(numeric_cols)\n",
    "print(listings_numeric)"
   ]
  },
  {
   "cell_type": "code",
   "execution_count": 108,
   "metadata": {},
   "outputs": [
    {
     "data": {
      "image/png": "[encoded data removed]",
      "text/plain": [
       "<Figure size 432x288 with 2 Axes>"
      ]
     },
     "metadata": {
      "needs_background": "light"
     },
     "output_type": "display_data"
    }
   ],
   "source": [
    "#Creating HEATMAP to show the presence of the missing values\n",
    "sns.heatmap(listings.isnull(), cmap=sns.color_palette(palette='colorblind'), vmin=0, vmax=1) \n",
    "plt.show()"
   ]
  },
  {
   "cell_type": "code",
   "execution_count": 98,
   "metadata": {},
   "outputs": [],
   "source": [
    "#Now, since we see from the graph above showing that there are missing values in three columns, we need to handle these missing values!"
   ]
  },
  {
   "cell_type": "code",
   "execution_count": 113,
   "metadata": {},
   "outputs": [
    {
     "name": "stdout",
     "output_type": "stream",
     "text": [
      "created missing indicator for: neighbourhood_group\n",
      "created missing indicator for: last_review\n",
      "created missing indicator for: reviews_per_month\n"
     ]
    }
   ],
   "source": [
    "#First create missing indicator for columns with missing data\n",
    "for col in listings.columns:\n",
    "    missing_value = listings[col].isnull() #missing_value will create a series with all the columns with null values\n",
    "    num_missing = missing_value.sum() #this will sum up all the rows that have nulls   \n",
    "    #now we want to store the columns which have missing data\n",
    "    if num_missing > 0:  #this condition is still in the for loop.\n",
    "        print('created missing indicator for: {}'.format(col)) #prints all columns which have missing data\n",
    "        listings['{}_ismissing'.format(col)] = missing_value"
   ]
  },
  {
   "cell_type": "code",
   "execution_count": 115,
   "metadata": {},
   "outputs": [
    {
     "data": {
      "image/png": "[encoded data removed]",
      "text/plain": [
       "<Figure size 360x360 with 1 Axes>"
      ]
     },
     "metadata": {
      "needs_background": "light"
     },
     "output_type": "display_data"
    }
   ],
   "source": [
    "#The output above show the column names that have missing values: neighbourhood_group, last_review, and reviews_per_month\n",
    "#Here, we plot histogram for these missing values\n",
    "ismissing_cols = [col for col in listings.columns if 'ismissing' in col] #searching for ismissing in col using list comprehension \n",
    "listings['num_missing'] = listings[ismissing_cols].sum(axis=1) #create a new column 'num_missing' \n",
    "\n",
    "#Plot a distributional summary\n",
    "sns.displot(data=listings,x='num_missing',kde=True)\n",
    "plt.show()"
   ]
  },
  {
   "cell_type": "code",
   "execution_count": 116,
   "metadata": {},
   "outputs": [
    {
     "data": {
      "text/plain": [
       "dtype('int64')"
      ]
     },
     "execution_count": 116,
     "metadata": {},
     "output_type": "execute_result"
    }
   ],
   "source": [
    "listings[col].dtype #check the contents of col. It is a boolean datatype and holds true/false values"
   ]
  },
  {
   "cell_type": "code",
   "execution_count": 117,
   "metadata": {},
   "outputs": [
    {
     "data": {
      "text/plain": [
       "dtype('O')"
      ]
     },
     "execution_count": 117,
     "metadata": {},
     "output_type": "execute_result"
    }
   ],
   "source": [
    "listings.columns.dtype"
   ]
  },
  {
   "cell_type": "code",
   "execution_count": 118,
   "metadata": {},
   "outputs": [
    {
     "name": "stdout",
     "output_type": "stream",
     "text": [
      "id - 0%\n",
      "name - 0%\n",
      "host_id - 0%\n",
      "host_name - 0%\n",
      "neighbourhood_group - 100%\n",
      "neighbourhood - 0%\n",
      "latitude - 0%\n",
      "longitude - 0%\n",
      "room_type - 0%\n",
      "price - 0%\n",
      "minimum_nights - 0%\n",
      "number_of_reviews - 0%\n",
      "last_review - 30%\n",
      "reviews_per_month - 30%\n",
      "calculated_host_listings_count - 0%\n",
      "availability_365 - 0%\n",
      "neighbourhood_group_ismissing - 0%\n",
      "last_review_ismissing - 0%\n",
      "reviews_per_month_ismissing - 0%\n",
      "num_missing - 0%\n",
      "0.0\n"
     ]
    }
   ],
   "source": [
    "#We see the histogram of these missing value.\n",
    "#Calculate percent of missing data in the columns\n",
    "\n",
    "for col in listings.columns:\n",
    "    pct_missing = listings[col].isnull().mean() #calculating % of missing values. calling numpy (np)\n",
    "    print('{} - {}%'.format(col, round(pct_missing*100)))\n",
    "print(pct_missing)"
   ]
  },
  {
   "cell_type": "code",
   "execution_count": 15,
   "metadata": {},
   "outputs": [],
   "source": [
    "#Above we see the percentage of missing value of each column.\n",
    "#We are going to replace the missing values in last_review column with '_MISSING_' (categorical datatype)\n",
    "#We are going to replace missing values in reviews_per_month column with median (numerical datatype)\n",
    "#We are going to drop column neighbourhood_group because all values are missing"
   ]
  },
  {
   "cell_type": "code",
   "execution_count": 119,
   "metadata": {},
   "outputs": [],
   "source": [
    "#Replace the missing values in last_review column with '_MISSING_'\n",
    "listings['last_review'] = listings['last_review'].fillna('_MISSING_')"
   ]
  },
  {
   "cell_type": "code",
   "execution_count": 120,
   "metadata": {},
   "outputs": [
    {
     "name": "stdout",
     "output_type": "stream",
     "text": [
      "0.78\n"
     ]
    }
   ],
   "source": [
    "#Replace the missing values with median\n",
    "med = listings['reviews_per_month'].median() #calculate the median\n",
    "print(med)\n",
    "listings['reviews_per_month'] = listings['reviews_per_month'].fillna(med) #create a new column with the calculated median"
   ]
  },
  {
   "cell_type": "code",
   "execution_count": 121,
   "metadata": {},
   "outputs": [],
   "source": [
    "#Drop the missing column neighbourhood_group\n",
    "listings = listings.drop('neighbourhood_group',axis=1)"
   ]
  },
  {
   "cell_type": "code",
   "execution_count": 123,
   "metadata": {},
   "outputs": [
    {
     "data": {
      "image/png": "[encoded data removed]",
      "text/plain": [
       "<Figure size 432x288 with 2 Axes>"
      ]
     },
     "metadata": {
      "needs_background": "light"
     },
     "output_type": "display_data"
    }
   ],
   "source": [
    "#RECHECK the graphs for update of missing value handling\n",
    "sns.heatmap(listings.isnull(), cmap=sns.color_palette(palette='colorblind'), vmin=0, vmax=1) \n",
    "plt.show()"
   ]
  },
  {
   "cell_type": "code",
   "execution_count": 124,
   "metadata": {},
   "outputs": [
    {
     "data": {
      "text/html": [
       "<div>\n",
       "<style scoped>\n",
       "    .dataframe tbody tr th:only-of-type {\n",
       "        vertical-align: middle;\n",
       "    }\n",
       "\n",
       "    .dataframe tbody tr th {\n",
       "        vertical-align: top;\n",
       "    }\n",
       "\n",
       "    .dataframe thead th {\n",
       "        text-align: right;\n",
       "    }\n",
       "</style>\n",
       "<table border=\"1\" class=\"dataframe\">\n",
       "  <thead>\n",
       "    <tr style=\"text-align: right;\">\n",
       "      <th></th>\n",
       "      <th>id</th>\n",
       "      <th>name</th>\n",
       "      <th>host_id</th>\n",
       "      <th>host_name</th>\n",
       "      <th>neighbourhood</th>\n",
       "      <th>latitude</th>\n",
       "      <th>longitude</th>\n",
       "      <th>room_type</th>\n",
       "      <th>price</th>\n",
       "      <th>minimum_nights</th>\n",
       "      <th>number_of_reviews</th>\n",
       "      <th>last_review</th>\n",
       "      <th>reviews_per_month</th>\n",
       "      <th>calculated_host_listings_count</th>\n",
       "      <th>availability_365</th>\n",
       "      <th>neighbourhood_group_ismissing</th>\n",
       "      <th>last_review_ismissing</th>\n",
       "      <th>reviews_per_month_ismissing</th>\n",
       "      <th>num_missing</th>\n",
       "    </tr>\n",
       "  </thead>\n",
       "  <tbody>\n",
       "    <tr>\n",
       "      <th>0</th>\n",
       "      <td>False</td>\n",
       "      <td>False</td>\n",
       "      <td>False</td>\n",
       "      <td>False</td>\n",
       "      <td>False</td>\n",
       "      <td>False</td>\n",
       "      <td>False</td>\n",
       "      <td>False</td>\n",
       "      <td>False</td>\n",
       "      <td>False</td>\n",
       "      <td>False</td>\n",
       "      <td>False</td>\n",
       "      <td>False</td>\n",
       "      <td>False</td>\n",
       "      <td>False</td>\n",
       "      <td>False</td>\n",
       "      <td>False</td>\n",
       "      <td>False</td>\n",
       "      <td>False</td>\n",
       "    </tr>\n",
       "    <tr>\n",
       "      <th>1</th>\n",
       "      <td>False</td>\n",
       "      <td>False</td>\n",
       "      <td>False</td>\n",
       "      <td>False</td>\n",
       "      <td>False</td>\n",
       "      <td>False</td>\n",
       "      <td>False</td>\n",
       "      <td>False</td>\n",
       "      <td>False</td>\n",
       "      <td>False</td>\n",
       "      <td>False</td>\n",
       "      <td>False</td>\n",
       "      <td>False</td>\n",
       "      <td>False</td>\n",
       "      <td>False</td>\n",
       "      <td>False</td>\n",
       "      <td>False</td>\n",
       "      <td>False</td>\n",
       "      <td>False</td>\n",
       "    </tr>\n",
       "    <tr>\n",
       "      <th>2</th>\n",
       "      <td>False</td>\n",
       "      <td>False</td>\n",
       "      <td>False</td>\n",
       "      <td>False</td>\n",
       "      <td>False</td>\n",
       "      <td>False</td>\n",
       "      <td>False</td>\n",
       "      <td>False</td>\n",
       "      <td>False</td>\n",
       "      <td>False</td>\n",
       "      <td>False</td>\n",
       "      <td>False</td>\n",
       "      <td>False</td>\n",
       "      <td>False</td>\n",
       "      <td>False</td>\n",
       "      <td>False</td>\n",
       "      <td>False</td>\n",
       "      <td>False</td>\n",
       "      <td>False</td>\n",
       "    </tr>\n",
       "    <tr>\n",
       "      <th>3</th>\n",
       "      <td>False</td>\n",
       "      <td>False</td>\n",
       "      <td>False</td>\n",
       "      <td>False</td>\n",
       "      <td>False</td>\n",
       "      <td>False</td>\n",
       "      <td>False</td>\n",
       "      <td>False</td>\n",
       "      <td>False</td>\n",
       "      <td>False</td>\n",
       "      <td>False</td>\n",
       "      <td>False</td>\n",
       "      <td>False</td>\n",
       "      <td>False</td>\n",
       "      <td>False</td>\n",
       "      <td>False</td>\n",
       "      <td>False</td>\n",
       "      <td>False</td>\n",
       "      <td>False</td>\n",
       "    </tr>\n",
       "    <tr>\n",
       "      <th>4</th>\n",
       "      <td>False</td>\n",
       "      <td>False</td>\n",
       "      <td>False</td>\n",
       "      <td>False</td>\n",
       "      <td>False</td>\n",
       "      <td>False</td>\n",
       "      <td>False</td>\n",
       "      <td>False</td>\n",
       "      <td>False</td>\n",
       "      <td>False</td>\n",
       "      <td>False</td>\n",
       "      <td>False</td>\n",
       "      <td>False</td>\n",
       "      <td>False</td>\n",
       "      <td>False</td>\n",
       "      <td>False</td>\n",
       "      <td>False</td>\n",
       "      <td>False</td>\n",
       "      <td>False</td>\n",
       "    </tr>\n",
       "    <tr>\n",
       "      <th>...</th>\n",
       "      <td>...</td>\n",
       "      <td>...</td>\n",
       "      <td>...</td>\n",
       "      <td>...</td>\n",
       "      <td>...</td>\n",
       "      <td>...</td>\n",
       "      <td>...</td>\n",
       "      <td>...</td>\n",
       "      <td>...</td>\n",
       "      <td>...</td>\n",
       "      <td>...</td>\n",
       "      <td>...</td>\n",
       "      <td>...</td>\n",
       "      <td>...</td>\n",
       "      <td>...</td>\n",
       "      <td>...</td>\n",
       "      <td>...</td>\n",
       "      <td>...</td>\n",
       "      <td>...</td>\n",
       "    </tr>\n",
       "    <tr>\n",
       "      <th>2954</th>\n",
       "      <td>False</td>\n",
       "      <td>False</td>\n",
       "      <td>False</td>\n",
       "      <td>False</td>\n",
       "      <td>False</td>\n",
       "      <td>False</td>\n",
       "      <td>False</td>\n",
       "      <td>False</td>\n",
       "      <td>False</td>\n",
       "      <td>False</td>\n",
       "      <td>False</td>\n",
       "      <td>False</td>\n",
       "      <td>False</td>\n",
       "      <td>False</td>\n",
       "      <td>False</td>\n",
       "      <td>False</td>\n",
       "      <td>False</td>\n",
       "      <td>False</td>\n",
       "      <td>False</td>\n",
       "    </tr>\n",
       "    <tr>\n",
       "      <th>2955</th>\n",
       "      <td>False</td>\n",
       "      <td>False</td>\n",
       "      <td>False</td>\n",
       "      <td>False</td>\n",
       "      <td>False</td>\n",
       "      <td>False</td>\n",
       "      <td>False</td>\n",
       "      <td>False</td>\n",
       "      <td>False</td>\n",
       "      <td>False</td>\n",
       "      <td>False</td>\n",
       "      <td>False</td>\n",
       "      <td>False</td>\n",
       "      <td>False</td>\n",
       "      <td>False</td>\n",
       "      <td>False</td>\n",
       "      <td>False</td>\n",
       "      <td>False</td>\n",
       "      <td>False</td>\n",
       "    </tr>\n",
       "    <tr>\n",
       "      <th>2956</th>\n",
       "      <td>False</td>\n",
       "      <td>False</td>\n",
       "      <td>False</td>\n",
       "      <td>False</td>\n",
       "      <td>False</td>\n",
       "      <td>False</td>\n",
       "      <td>False</td>\n",
       "      <td>False</td>\n",
       "      <td>False</td>\n",
       "      <td>False</td>\n",
       "      <td>False</td>\n",
       "      <td>False</td>\n",
       "      <td>False</td>\n",
       "      <td>False</td>\n",
       "      <td>False</td>\n",
       "      <td>False</td>\n",
       "      <td>False</td>\n",
       "      <td>False</td>\n",
       "      <td>False</td>\n",
       "    </tr>\n",
       "    <tr>\n",
       "      <th>2957</th>\n",
       "      <td>False</td>\n",
       "      <td>False</td>\n",
       "      <td>False</td>\n",
       "      <td>False</td>\n",
       "      <td>False</td>\n",
       "      <td>False</td>\n",
       "      <td>False</td>\n",
       "      <td>False</td>\n",
       "      <td>False</td>\n",
       "      <td>False</td>\n",
       "      <td>False</td>\n",
       "      <td>False</td>\n",
       "      <td>False</td>\n",
       "      <td>False</td>\n",
       "      <td>False</td>\n",
       "      <td>False</td>\n",
       "      <td>False</td>\n",
       "      <td>False</td>\n",
       "      <td>False</td>\n",
       "    </tr>\n",
       "    <tr>\n",
       "      <th>2958</th>\n",
       "      <td>False</td>\n",
       "      <td>False</td>\n",
       "      <td>False</td>\n",
       "      <td>False</td>\n",
       "      <td>False</td>\n",
       "      <td>False</td>\n",
       "      <td>False</td>\n",
       "      <td>False</td>\n",
       "      <td>False</td>\n",
       "      <td>False</td>\n",
       "      <td>False</td>\n",
       "      <td>False</td>\n",
       "      <td>False</td>\n",
       "      <td>False</td>\n",
       "      <td>False</td>\n",
       "      <td>False</td>\n",
       "      <td>False</td>\n",
       "      <td>False</td>\n",
       "      <td>False</td>\n",
       "    </tr>\n",
       "  </tbody>\n",
       "</table>\n",
       "<p>2959 rows × 19 columns</p>\n",
       "</div>"
      ],
      "text/plain": [
       "         id   name  host_id  host_name  neighbourhood  latitude  longitude  \\\n",
       "0     False  False    False      False          False     False      False   \n",
       "1     False  False    False      False          False     False      False   \n",
       "2     False  False    False      False          False     False      False   \n",
       "3     False  False    False      False          False     False      False   \n",
       "4     False  False    False      False          False     False      False   \n",
       "...     ...    ...      ...        ...            ...       ...        ...   \n",
       "2954  False  False    False      False          False     False      False   \n",
       "2955  False  False    False      False          False     False      False   \n",
       "2956  False  False    False      False          False     False      False   \n",
       "2957  False  False    False      False          False     False      False   \n",
       "2958  False  False    False      False          False     False      False   \n",
       "\n",
       "      room_type  price  minimum_nights  number_of_reviews  last_review  \\\n",
       "0         False  False           False              False        False   \n",
       "1         False  False           False              False        False   \n",
       "2         False  False           False              False        False   \n",
       "3         False  False           False              False        False   \n",
       "4         False  False           False              False        False   \n",
       "...         ...    ...             ...                ...          ...   \n",
       "2954      False  False           False              False        False   \n",
       "2955      False  False           False              False        False   \n",
       "2956      False  False           False              False        False   \n",
       "2957      False  False           False              False        False   \n",
       "2958      False  False           False              False        False   \n",
       "\n",
       "      reviews_per_month  calculated_host_listings_count  availability_365  \\\n",
       "0                 False                           False             False   \n",
       "1                 False                           False             False   \n",
       "2                 False                           False             False   \n",
       "3                 False                           False             False   \n",
       "4                 False                           False             False   \n",
       "...                 ...                             ...               ...   \n",
       "2954              False                           False             False   \n",
       "2955              False                           False             False   \n",
       "2956              False                           False             False   \n",
       "2957              False                           False             False   \n",
       "2958              False                           False             False   \n",
       "\n",
       "      neighbourhood_group_ismissing  last_review_ismissing  \\\n",
       "0                             False                  False   \n",
       "1                             False                  False   \n",
       "2                             False                  False   \n",
       "3                             False                  False   \n",
       "4                             False                  False   \n",
       "...                             ...                    ...   \n",
       "2954                          False                  False   \n",
       "2955                          False                  False   \n",
       "2956                          False                  False   \n",
       "2957                          False                  False   \n",
       "2958                          False                  False   \n",
       "\n",
       "      reviews_per_month_ismissing  num_missing  \n",
       "0                           False        False  \n",
       "1                           False        False  \n",
       "2                           False        False  \n",
       "3                           False        False  \n",
       "4                           False        False  \n",
       "...                           ...          ...  \n",
       "2954                        False        False  \n",
       "2955                        False        False  \n",
       "2956                        False        False  \n",
       "2957                        False        False  \n",
       "2958                        False        False  \n",
       "\n",
       "[2959 rows x 19 columns]"
      ]
     },
     "execution_count": 124,
     "metadata": {},
     "output_type": "execute_result"
    }
   ],
   "source": [
    "listings.isnull() #To check if there is any null or missing value in the dataset"
   ]
  },
  {
   "cell_type": "code",
   "execution_count": 125,
   "metadata": {},
   "outputs": [],
   "source": [
    "#Since price cannot be 0, we drop rows where price equal 0\n",
    "listings.drop(listings.index[listings[\"price\"]==0], axis=0, inplace=True)"
   ]
  },
  {
   "cell_type": "code",
   "execution_count": 126,
   "metadata": {},
   "outputs": [
    {
     "data": {
      "image/png": "[encoded data removed]",
      "text/plain": [
       "<Figure size 432x288 with 1 Axes>"
      ]
     },
     "metadata": {
      "needs_background": "light"
     },
     "output_type": "display_data"
    },
    {
     "data": {
      "text/plain": [
       "count     2955.000000\n",
       "mean       148.797293\n",
       "std        295.411137\n",
       "min         19.000000\n",
       "25%         70.000000\n",
       "50%        110.000000\n",
       "75%        174.000000\n",
       "max      10000.000000\n",
       "Name: price, dtype: float64"
      ]
     },
     "execution_count": 126,
     "metadata": {},
     "output_type": "execute_result"
    }
   ],
   "source": [
    "#Now it is time to detect OUTLIERS!\n",
    "#Find outliers in our outcome variable\n",
    "listings.price.hist(bins=100)\n",
    "plt.show()\n",
    "listings['price'].describe() #descriptive statistics"
   ]
  },
  {
   "cell_type": "code",
   "execution_count": 174,
   "metadata": {},
   "outputs": [
    {
     "data": {
      "image/png": "[encoded data removed]",
      "text/plain": [
       "<Figure size 432x288 with 1 Axes>"
      ]
     },
     "metadata": {
      "needs_background": "light"
     },
     "output_type": "display_data"
    }
   ],
   "source": [
    "#Using box plot to show outliers in variable price\n",
    "sns.boxplot(data=listings,x='price')\n",
    "plt.show()"
   ]
  },
  {
   "cell_type": "code",
   "execution_count": 128,
   "metadata": {},
   "outputs": [
    {
     "data": {
      "text/plain": [
       "array(['East Boston', 'Roxbury', 'Back Bay', 'North End', 'Beacon Hill',\n",
       "       'Dorchester', 'South End', 'Jamaica Plain', 'Charlestown',\n",
       "       'South Boston', 'Bay Village', 'Brighton', 'West Roxbury',\n",
       "       'Roslindale', 'Downtown', 'Mission Hill', 'West End',\n",
       "       'South Boston Waterfront', 'Fenway', 'Allston', 'Hyde Park',\n",
       "       'Chinatown', 'Mattapan', 'Longwood Medical Area',\n",
       "       'Leather District'], dtype=object)"
      ]
     },
     "execution_count": 128,
     "metadata": {},
     "output_type": "execute_result"
    }
   ],
   "source": [
    "listings['neighbourhood'].unique()"
   ]
  },
  {
   "cell_type": "code",
   "execution_count": 168,
   "metadata": {},
   "outputs": [
    {
     "data": {
      "image/png": "[encoded data removed]",
      "text/plain": [
       "<Figure size 432x288 with 1 Axes>"
      ]
     },
     "metadata": {
      "needs_background": "light"
     },
     "output_type": "display_data"
    }
   ],
   "source": [
    "#Using a bar chart to see the distribution of a categorical variable neighbourhood\n",
    "listings['neighbourhood'].value_counts().plot.bar()\n",
    "plt.show()"
   ]
  },
  {
   "cell_type": "code",
   "execution_count": 127,
   "metadata": {},
   "outputs": [
    {
     "data": {
      "image/png": "[encoded data removed]",
      "text/plain": [
       "<Figure size 432x288 with 1 Axes>"
      ]
     },
     "metadata": {
      "needs_background": "light"
     },
     "output_type": "display_data"
    },
    {
     "data": {
      "text/plain": [
       "count    2955.000000\n",
       "mean       42.637902\n",
       "std        44.666107\n",
       "min         1.000000\n",
       "25%         2.000000\n",
       "50%        29.000000\n",
       "75%        91.000000\n",
       "max      1000.000000\n",
       "Name: minimum_nights, dtype: float64"
      ]
     },
     "execution_count": 127,
     "metadata": {},
     "output_type": "execute_result"
    }
   ],
   "source": [
    "#Find outliers in our explanatory variable\n",
    "listings.minimum_nights.hist(bins=100)\n",
    "plt.show()\n",
    "#Use descriptive statistics\n",
    "listings['minimum_nights'].describe()"
   ]
  },
  {
   "cell_type": "code",
   "execution_count": 179,
   "metadata": {},
   "outputs": [
    {
     "data": {
      "image/png": "[encoded data removed]",
      "text/plain": [
       "<Figure size 432x288 with 1 Axes>"
      ]
     },
     "metadata": {
      "needs_background": "light"
     },
     "output_type": "display_data"
    }
   ],
   "source": [
    "#Using box plot to show outliers in variable minimum_nights\n",
    "sns.boxplot(data=listings,x='minimum_nights')\n",
    "plt.show()"
   ]
  },
  {
   "cell_type": "code",
   "execution_count": 169,
   "metadata": {},
   "outputs": [
    {
     "data": {
      "image/png": "[encoded data removed]",
      "text/plain": [
       "<Figure size 432x288 with 1 Axes>"
      ]
     },
     "metadata": {
      "needs_background": "light"
     },
     "output_type": "display_data"
    },
    {
     "data": {
      "text/plain": [
       "count    2955.000000\n",
       "mean      183.891709\n",
       "std       140.973808\n",
       "min         0.000000\n",
       "25%        41.500000\n",
       "50%       179.000000\n",
       "75%       334.000000\n",
       "max       365.000000\n",
       "Name: availability_365, dtype: float64"
      ]
     },
     "execution_count": 169,
     "metadata": {},
     "output_type": "execute_result"
    }
   ],
   "source": [
    "#Find outliers in our outcome variable\n",
    "listings.availability_365.hist(bins=100)\n",
    "plt.show()\n",
    "listings['availability_365'].describe() #descriptive statistics"
   ]
  },
  {
   "cell_type": "code",
   "execution_count": 180,
   "metadata": {},
   "outputs": [
    {
     "data": {
      "image/png": "[encoded data removed]",
      "text/plain": [
       "<Figure size 432x288 with 1 Axes>"
      ]
     },
     "metadata": {
      "needs_background": "light"
     },
     "output_type": "display_data"
    }
   ],
   "source": [
    "#Using box plot to show outliers in availability_365\n",
    "sns.boxplot(data=listings,x='availability_365')\n",
    "plt.show()"
   ]
  },
  {
   "cell_type": "code",
   "execution_count": 172,
   "metadata": {},
   "outputs": [
    {
     "data": {
      "text/plain": [
       "array(['Entire home/apt', 'Private room', 'Shared room', 'Hotel room'],\n",
       "      dtype=object)"
      ]
     },
     "execution_count": 172,
     "metadata": {},
     "output_type": "execute_result"
    }
   ],
   "source": [
    "listings['room_type'].unique()"
   ]
  },
  {
   "cell_type": "code",
   "execution_count": 171,
   "metadata": {},
   "outputs": [
    {
     "data": {
      "image/png": "[encoded data removed]",
      "text/plain": [
       "<Figure size 432x288 with 1 Axes>"
      ]
     },
     "metadata": {
      "needs_background": "light"
     },
     "output_type": "display_data"
    }
   ],
   "source": [
    "#Using a bar chart to see the distribution of a categorical variable neighbourhood\n",
    "listings['room_type'].value_counts().plot.bar()\n",
    "plt.show()"
   ]
  },
  {
   "cell_type": "code",
   "execution_count": 130,
   "metadata": {},
   "outputs": [],
   "source": [
    "# REGRESSION #"
   ]
  },
  {
   "cell_type": "code",
   "execution_count": 131,
   "metadata": {},
   "outputs": [],
   "source": [
    "#IMPORT TOOLS\n",
    "import patsy                           # provides a syntax for specifying models  \n",
    "import statsmodels.api as sm           # provides statistical models like ols, gmm, anova, etc...\n",
    "import statsmodels.formula.api as smf  # provides a way to directly spec models from formulas"
   ]
  },
  {
   "cell_type": "code",
   "execution_count": 132,
   "metadata": {},
   "outputs": [
    {
     "data": {
      "text/html": [
       "<div>\n",
       "<style scoped>\n",
       "    .dataframe tbody tr th:only-of-type {\n",
       "        vertical-align: middle;\n",
       "    }\n",
       "\n",
       "    .dataframe tbody tr th {\n",
       "        vertical-align: top;\n",
       "    }\n",
       "\n",
       "    .dataframe thead th {\n",
       "        text-align: right;\n",
       "    }\n",
       "</style>\n",
       "<table border=\"1\" class=\"dataframe\">\n",
       "  <thead>\n",
       "    <tr style=\"text-align: right;\">\n",
       "      <th></th>\n",
       "      <th>id</th>\n",
       "      <th>name</th>\n",
       "      <th>host_id</th>\n",
       "      <th>host_name</th>\n",
       "      <th>neighbourhood</th>\n",
       "      <th>latitude</th>\n",
       "      <th>longitude</th>\n",
       "      <th>room_type</th>\n",
       "      <th>price</th>\n",
       "      <th>minimum_nights</th>\n",
       "      <th>number_of_reviews</th>\n",
       "      <th>last_review</th>\n",
       "      <th>reviews_per_month</th>\n",
       "      <th>calculated_host_listings_count</th>\n",
       "      <th>availability_365</th>\n",
       "      <th>neighbourhood_group_ismissing</th>\n",
       "      <th>last_review_ismissing</th>\n",
       "      <th>reviews_per_month_ismissing</th>\n",
       "      <th>num_missing</th>\n",
       "    </tr>\n",
       "  </thead>\n",
       "  <tbody>\n",
       "    <tr>\n",
       "      <th>0</th>\n",
       "      <td>3781</td>\n",
       "      <td>HARBORSIDE-Walk to subway</td>\n",
       "      <td>4804</td>\n",
       "      <td>Frank</td>\n",
       "      <td>East Boston</td>\n",
       "      <td>42.364130</td>\n",
       "      <td>-71.029910</td>\n",
       "      <td>Entire home/apt</td>\n",
       "      <td>125</td>\n",
       "      <td>29</td>\n",
       "      <td>18</td>\n",
       "      <td>12/20/2020</td>\n",
       "      <td>0.26</td>\n",
       "      <td>1</td>\n",
       "      <td>224</td>\n",
       "      <td>True</td>\n",
       "      <td>False</td>\n",
       "      <td>False</td>\n",
       "      <td>1</td>\n",
       "    </tr>\n",
       "    <tr>\n",
       "      <th>1</th>\n",
       "      <td>6695</td>\n",
       "      <td>$99 Special!! Home Away! Condo</td>\n",
       "      <td>8229</td>\n",
       "      <td>Terry</td>\n",
       "      <td>Roxbury</td>\n",
       "      <td>42.329940</td>\n",
       "      <td>-71.093510</td>\n",
       "      <td>Entire home/apt</td>\n",
       "      <td>169</td>\n",
       "      <td>29</td>\n",
       "      <td>115</td>\n",
       "      <td>11/2/2019</td>\n",
       "      <td>0.82</td>\n",
       "      <td>4</td>\n",
       "      <td>0</td>\n",
       "      <td>True</td>\n",
       "      <td>False</td>\n",
       "      <td>False</td>\n",
       "      <td>1</td>\n",
       "    </tr>\n",
       "    <tr>\n",
       "      <th>2</th>\n",
       "      <td>10813</td>\n",
       "      <td>Back Bay Apt-blocks to subway, Newbury St, The...</td>\n",
       "      <td>38997</td>\n",
       "      <td>Michelle</td>\n",
       "      <td>Back Bay</td>\n",
       "      <td>42.350610</td>\n",
       "      <td>-71.087870</td>\n",
       "      <td>Entire home/apt</td>\n",
       "      <td>70</td>\n",
       "      <td>29</td>\n",
       "      <td>5</td>\n",
       "      <td>12/2/2020</td>\n",
       "      <td>0.09</td>\n",
       "      <td>11</td>\n",
       "      <td>364</td>\n",
       "      <td>True</td>\n",
       "      <td>False</td>\n",
       "      <td>False</td>\n",
       "      <td>1</td>\n",
       "    </tr>\n",
       "    <tr>\n",
       "      <th>3</th>\n",
       "      <td>10986</td>\n",
       "      <td>North End (Waterfront area)  CLOSE TO MGH &amp; SU...</td>\n",
       "      <td>38997</td>\n",
       "      <td>Michelle</td>\n",
       "      <td>North End</td>\n",
       "      <td>42.363520</td>\n",
       "      <td>-71.050750</td>\n",
       "      <td>Entire home/apt</td>\n",
       "      <td>73</td>\n",
       "      <td>29</td>\n",
       "      <td>2</td>\n",
       "      <td>5/23/2016</td>\n",
       "      <td>0.03</td>\n",
       "      <td>11</td>\n",
       "      <td>364</td>\n",
       "      <td>True</td>\n",
       "      <td>False</td>\n",
       "      <td>False</td>\n",
       "      <td>1</td>\n",
       "    </tr>\n",
       "    <tr>\n",
       "      <th>4</th>\n",
       "      <td>13247</td>\n",
       "      <td>Back Bay studio apartment</td>\n",
       "      <td>51637</td>\n",
       "      <td>Susan</td>\n",
       "      <td>Back Bay</td>\n",
       "      <td>42.351640</td>\n",
       "      <td>-71.087520</td>\n",
       "      <td>Entire home/apt</td>\n",
       "      <td>75</td>\n",
       "      <td>91</td>\n",
       "      <td>0</td>\n",
       "      <td>_MISSING_</td>\n",
       "      <td>0.78</td>\n",
       "      <td>2</td>\n",
       "      <td>0</td>\n",
       "      <td>True</td>\n",
       "      <td>True</td>\n",
       "      <td>True</td>\n",
       "      <td>3</td>\n",
       "    </tr>\n",
       "    <tr>\n",
       "      <th>...</th>\n",
       "      <td>...</td>\n",
       "      <td>...</td>\n",
       "      <td>...</td>\n",
       "      <td>...</td>\n",
       "      <td>...</td>\n",
       "      <td>...</td>\n",
       "      <td>...</td>\n",
       "      <td>...</td>\n",
       "      <td>...</td>\n",
       "      <td>...</td>\n",
       "      <td>...</td>\n",
       "      <td>...</td>\n",
       "      <td>...</td>\n",
       "      <td>...</td>\n",
       "      <td>...</td>\n",
       "      <td>...</td>\n",
       "      <td>...</td>\n",
       "      <td>...</td>\n",
       "      <td>...</td>\n",
       "    </tr>\n",
       "    <tr>\n",
       "      <th>2954</th>\n",
       "      <td>48211443</td>\n",
       "      <td>Cozy, Private Rm w/ 40\"Tv, Mini Frig, Queen Bed</td>\n",
       "      <td>278520291</td>\n",
       "      <td>Glen</td>\n",
       "      <td>Mattapan</td>\n",
       "      <td>42.265340</td>\n",
       "      <td>-71.096310</td>\n",
       "      <td>Private room</td>\n",
       "      <td>40</td>\n",
       "      <td>1</td>\n",
       "      <td>0</td>\n",
       "      <td>_MISSING_</td>\n",
       "      <td>0.78</td>\n",
       "      <td>3</td>\n",
       "      <td>350</td>\n",
       "      <td>True</td>\n",
       "      <td>True</td>\n",
       "      <td>True</td>\n",
       "      <td>3</td>\n",
       "    </tr>\n",
       "    <tr>\n",
       "      <th>2955</th>\n",
       "      <td>48228283</td>\n",
       "      <td>Last Minute Specials! Downtown Boston Studio, ...</td>\n",
       "      <td>316148588</td>\n",
       "      <td>TemplePlace</td>\n",
       "      <td>Downtown</td>\n",
       "      <td>42.356210</td>\n",
       "      <td>-71.061890</td>\n",
       "      <td>Entire home/apt</td>\n",
       "      <td>74</td>\n",
       "      <td>2</td>\n",
       "      <td>0</td>\n",
       "      <td>_MISSING_</td>\n",
       "      <td>0.78</td>\n",
       "      <td>4</td>\n",
       "      <td>347</td>\n",
       "      <td>True</td>\n",
       "      <td>True</td>\n",
       "      <td>True</td>\n",
       "      <td>3</td>\n",
       "    </tr>\n",
       "    <tr>\n",
       "      <th>2956</th>\n",
       "      <td>48228309</td>\n",
       "      <td>204 Boston Studio, Ready For Long &amp; Short Stays</td>\n",
       "      <td>316148588</td>\n",
       "      <td>TemplePlace</td>\n",
       "      <td>Downtown</td>\n",
       "      <td>42.354230</td>\n",
       "      <td>-71.061620</td>\n",
       "      <td>Private room</td>\n",
       "      <td>64</td>\n",
       "      <td>2</td>\n",
       "      <td>0</td>\n",
       "      <td>_MISSING_</td>\n",
       "      <td>0.78</td>\n",
       "      <td>4</td>\n",
       "      <td>104</td>\n",
       "      <td>True</td>\n",
       "      <td>True</td>\n",
       "      <td>True</td>\n",
       "      <td>3</td>\n",
       "    </tr>\n",
       "    <tr>\n",
       "      <th>2957</th>\n",
       "      <td>48231177</td>\n",
       "      <td>508 Stylish Studio in Downtown Boston!</td>\n",
       "      <td>316148588</td>\n",
       "      <td>TemplePlace</td>\n",
       "      <td>Beacon Hill</td>\n",
       "      <td>42.356100</td>\n",
       "      <td>-71.063020</td>\n",
       "      <td>Entire home/apt</td>\n",
       "      <td>77</td>\n",
       "      <td>2</td>\n",
       "      <td>0</td>\n",
       "      <td>_MISSING_</td>\n",
       "      <td>0.78</td>\n",
       "      <td>4</td>\n",
       "      <td>65</td>\n",
       "      <td>True</td>\n",
       "      <td>True</td>\n",
       "      <td>True</td>\n",
       "      <td>3</td>\n",
       "    </tr>\n",
       "    <tr>\n",
       "      <th>2958</th>\n",
       "      <td>48231284</td>\n",
       "      <td>507 Stylish Studio in the Heart of Boston!</td>\n",
       "      <td>316148588</td>\n",
       "      <td>TemplePlace</td>\n",
       "      <td>Downtown</td>\n",
       "      <td>42.354836</td>\n",
       "      <td>-71.061621</td>\n",
       "      <td>Entire home/apt</td>\n",
       "      <td>116</td>\n",
       "      <td>2</td>\n",
       "      <td>0</td>\n",
       "      <td>_MISSING_</td>\n",
       "      <td>0.78</td>\n",
       "      <td>4</td>\n",
       "      <td>62</td>\n",
       "      <td>True</td>\n",
       "      <td>True</td>\n",
       "      <td>True</td>\n",
       "      <td>3</td>\n",
       "    </tr>\n",
       "  </tbody>\n",
       "</table>\n",
       "<p>2955 rows × 19 columns</p>\n",
       "</div>"
      ],
      "text/plain": [
       "            id                                               name    host_id  \\\n",
       "0         3781                          HARBORSIDE-Walk to subway       4804   \n",
       "1         6695                     $99 Special!! Home Away! Condo       8229   \n",
       "2        10813  Back Bay Apt-blocks to subway, Newbury St, The...      38997   \n",
       "3        10986  North End (Waterfront area)  CLOSE TO MGH & SU...      38997   \n",
       "4        13247                          Back Bay studio apartment      51637   \n",
       "...        ...                                                ...        ...   \n",
       "2954  48211443    Cozy, Private Rm w/ 40\"Tv, Mini Frig, Queen Bed  278520291   \n",
       "2955  48228283  Last Minute Specials! Downtown Boston Studio, ...  316148588   \n",
       "2956  48228309    204 Boston Studio, Ready For Long & Short Stays  316148588   \n",
       "2957  48231177             508 Stylish Studio in Downtown Boston!  316148588   \n",
       "2958  48231284         507 Stylish Studio in the Heart of Boston!  316148588   \n",
       "\n",
       "        host_name neighbourhood   latitude  longitude        room_type  price  \\\n",
       "0           Frank   East Boston  42.364130 -71.029910  Entire home/apt    125   \n",
       "1           Terry       Roxbury  42.329940 -71.093510  Entire home/apt    169   \n",
       "2        Michelle      Back Bay  42.350610 -71.087870  Entire home/apt     70   \n",
       "3        Michelle     North End  42.363520 -71.050750  Entire home/apt     73   \n",
       "4           Susan      Back Bay  42.351640 -71.087520  Entire home/apt     75   \n",
       "...           ...           ...        ...        ...              ...    ...   \n",
       "2954         Glen      Mattapan  42.265340 -71.096310     Private room     40   \n",
       "2955  TemplePlace      Downtown  42.356210 -71.061890  Entire home/apt     74   \n",
       "2956  TemplePlace      Downtown  42.354230 -71.061620     Private room     64   \n",
       "2957  TemplePlace   Beacon Hill  42.356100 -71.063020  Entire home/apt     77   \n",
       "2958  TemplePlace      Downtown  42.354836 -71.061621  Entire home/apt    116   \n",
       "\n",
       "      minimum_nights  number_of_reviews last_review  reviews_per_month  \\\n",
       "0                 29                 18  12/20/2020               0.26   \n",
       "1                 29                115   11/2/2019               0.82   \n",
       "2                 29                  5   12/2/2020               0.09   \n",
       "3                 29                  2   5/23/2016               0.03   \n",
       "4                 91                  0   _MISSING_               0.78   \n",
       "...              ...                ...         ...                ...   \n",
       "2954               1                  0   _MISSING_               0.78   \n",
       "2955               2                  0   _MISSING_               0.78   \n",
       "2956               2                  0   _MISSING_               0.78   \n",
       "2957               2                  0   _MISSING_               0.78   \n",
       "2958               2                  0   _MISSING_               0.78   \n",
       "\n",
       "      calculated_host_listings_count  availability_365  \\\n",
       "0                                  1               224   \n",
       "1                                  4                 0   \n",
       "2                                 11               364   \n",
       "3                                 11               364   \n",
       "4                                  2                 0   \n",
       "...                              ...               ...   \n",
       "2954                               3               350   \n",
       "2955                               4               347   \n",
       "2956                               4               104   \n",
       "2957                               4                65   \n",
       "2958                               4                62   \n",
       "\n",
       "      neighbourhood_group_ismissing  last_review_ismissing  \\\n",
       "0                              True                  False   \n",
       "1                              True                  False   \n",
       "2                              True                  False   \n",
       "3                              True                  False   \n",
       "4                              True                   True   \n",
       "...                             ...                    ...   \n",
       "2954                           True                   True   \n",
       "2955                           True                   True   \n",
       "2956                           True                   True   \n",
       "2957                           True                   True   \n",
       "2958                           True                   True   \n",
       "\n",
       "      reviews_per_month_ismissing  num_missing  \n",
       "0                           False            1  \n",
       "1                           False            1  \n",
       "2                           False            1  \n",
       "3                           False            1  \n",
       "4                            True            3  \n",
       "...                           ...          ...  \n",
       "2954                         True            3  \n",
       "2955                         True            3  \n",
       "2956                         True            3  \n",
       "2957                         True            3  \n",
       "2958                         True            3  \n",
       "\n",
       "[2955 rows x 19 columns]"
      ]
     },
     "execution_count": 132,
     "metadata": {},
     "output_type": "execute_result"
    }
   ],
   "source": [
    "listings"
   ]
  },
  {
   "cell_type": "code",
   "execution_count": 133,
   "metadata": {},
   "outputs": [],
   "source": [
    "# FIRST MODEL - price ~ neighbourhood\n",
    "result1 = smf.ols('price ~ neighbourhood', data=listings).fit()"
   ]
  },
  {
   "cell_type": "code",
   "execution_count": 134,
   "metadata": {},
   "outputs": [
    {
     "name": "stdout",
     "output_type": "stream",
     "text": [
      "                            OLS Regression Results                            \n",
      "==============================================================================\n",
      "Dep. Variable:                  price   R-squared:                       0.027\n",
      "Model:                            OLS   Adj. R-squared:                  0.019\n",
      "Method:                 Least Squares   F-statistic:                     3.382\n",
      "Date:                Thu, 01 Apr 2021   Prob (F-statistic):           5.34e-08\n",
      "Time:                        21:38:56   Log-Likelihood:                -20961.\n",
      "No. Observations:                2955   AIC:                         4.197e+04\n",
      "Df Residuals:                    2930   BIC:                         4.212e+04\n",
      "Df Model:                          24                                         \n",
      "Covariance Type:            nonrobust                                         \n",
      "============================================================================================================\n",
      "                                               coef    std err          t      P>|t|      [0.025      0.975]\n",
      "------------------------------------------------------------------------------------------------------------\n",
      "Intercept                                  107.3467     23.890      4.493      0.000      60.503     154.190\n",
      "neighbourhood[T.Back Bay]                   62.4114     32.109      1.944      0.052      -0.548     125.371\n",
      "neighbourhood[T.Bay Village]                 6.7231     50.613      0.133      0.894     -92.518     105.964\n",
      "neighbourhood[T.Beacon Hill]                33.3022     34.989      0.952      0.341     -35.304     101.909\n",
      "neighbourhood[T.Brighton]                    0.2152     31.280      0.007      0.995     -61.117      61.547\n",
      "neighbourhood[T.Charlestown]                97.5333     41.379      2.357      0.018      16.398     178.668\n",
      "neighbourhood[T.Chinatown]                  37.3607     51.564      0.725      0.469     -63.744     138.465\n",
      "neighbourhood[T.Dorchester]                 52.7724     28.235      1.869      0.062      -2.590     108.135\n",
      "neighbourhood[T.Downtown]                   68.8674     29.276      2.352      0.019      11.464     126.270\n",
      "neighbourhood[T.East Boston]                23.2783     32.514      0.716      0.474     -40.475      87.031\n",
      "neighbourhood[T.Fenway]                     69.4197     37.025      1.875      0.061      -3.178     142.017\n",
      "neighbourhood[T.Hyde Park]                 -33.6710     53.708     -0.627      0.531    -138.980      71.638\n",
      "neighbourhood[T.Jamaica Plain]              30.4002     30.430      0.999      0.318     -29.266      90.066\n",
      "neighbourhood[T.Leather District]         1015.1533    148.235      6.848      0.000     724.499    1305.808\n",
      "neighbourhood[T.Longwood Medical Area]      39.6533    133.015      0.298      0.766    -221.159     300.466\n",
      "neighbourhood[T.Mattapan]                  -36.5820     55.576     -0.658      0.510    -145.554      72.390\n",
      "neighbourhood[T.Mission Hill]               48.2620     49.314      0.979      0.328     -48.431     144.955\n",
      "neighbourhood[T.North End]                  36.6687     43.449      0.844      0.399     -48.525     121.863\n",
      "neighbourhood[T.Roslindale]                -20.8565     47.428     -0.440      0.660    -113.852      72.139\n",
      "neighbourhood[T.Roxbury]                    -2.0686     30.897     -0.067      0.947     -62.651      58.514\n",
      "neighbourhood[T.South Boston]               70.9410     34.016      2.085      0.037       4.242     137.640\n",
      "neighbourhood[T.South Boston Waterfront]   117.6729     47.428      2.481      0.013      24.678     210.668\n",
      "neighbourhood[T.South End]                  54.4287     32.071      1.697      0.090      -8.455     117.313\n",
      "neighbourhood[T.West End]                   77.4371     53.708      1.442      0.149     -27.872     182.747\n",
      "neighbourhood[T.West Roxbury]              115.4346     56.974      2.026      0.043       3.721     227.149\n",
      "==============================================================================\n",
      "Omnibus:                     7393.661   Durbin-Watson:                   1.171\n",
      "Prob(Omnibus):                  0.000   Jarque-Bera (JB):         96298687.245\n",
      "Skew:                          26.767   Prob(JB):                         0.00\n",
      "Kurtosis:                     885.754   Cond. No.                         29.2\n",
      "==============================================================================\n",
      "\n",
      "Notes:\n",
      "[1] Standard Errors assume that the covariance matrix of the errors is correctly specified.\n"
     ]
    }
   ],
   "source": [
    "#Inspect result1\n",
    "print(result1.summary())"
   ]
  },
  {
   "cell_type": "code",
   "execution_count": 135,
   "metadata": {},
   "outputs": [],
   "source": [
    "#MODEL1 INTERPRETATION:\n",
    "#Listings belonging to neighbourhood Leather District had a significant increase in rental price by 1015 unit of dollar, holding other variable constant"
   ]
  },
  {
   "cell_type": "code",
   "execution_count": 157,
   "metadata": {},
   "outputs": [],
   "source": [
    "# SECOND MODEL - price ~ neighbourhood + minimum_nights\n",
    "result2 = smf.ols('price ~ neighbourhood + minimum_nights', data=listings).fit()"
   ]
  },
  {
   "cell_type": "code",
   "execution_count": 158,
   "metadata": {},
   "outputs": [
    {
     "name": "stdout",
     "output_type": "stream",
     "text": [
      "                            OLS Regression Results                            \n",
      "==============================================================================\n",
      "Dep. Variable:                  price   R-squared:                       0.027\n",
      "Model:                            OLS   Adj. R-squared:                  0.019\n",
      "Method:                 Least Squares   F-statistic:                     3.259\n",
      "Date:                Thu, 01 Apr 2021   Prob (F-statistic):           8.90e-08\n",
      "Time:                        22:13:50   Log-Likelihood:                -20961.\n",
      "No. Observations:                2955   AIC:                         4.197e+04\n",
      "Df Residuals:                    2929   BIC:                         4.213e+04\n",
      "Df Model:                          25                                         \n",
      "Covariance Type:            nonrobust                                         \n",
      "============================================================================================================\n",
      "                                               coef    std err          t      P>|t|      [0.025      0.975]\n",
      "------------------------------------------------------------------------------------------------------------\n",
      "Intercept                                  111.6031     24.967      4.470      0.000      62.649     160.557\n",
      "neighbourhood[T.Back Bay]                   61.0807     32.193      1.897      0.058      -2.042     124.203\n",
      "neighbourhood[T.Bay Village]                 3.6149     50.894      0.071      0.943     -96.178     103.408\n",
      "neighbourhood[T.Beacon Hill]                31.7364     35.095      0.904      0.366     -37.076     100.549\n",
      "neighbourhood[T.Brighton]                   -0.0350     31.286     -0.001      0.999     -61.380      61.310\n",
      "neighbourhood[T.Charlestown]                96.0690     41.459      2.317      0.021      14.778     177.360\n",
      "neighbourhood[T.Chinatown]                  36.0145     51.620      0.698      0.485     -65.201     137.230\n",
      "neighbourhood[T.Dorchester]                 51.3512     28.342      1.812      0.070      -4.221     106.923\n",
      "neighbourhood[T.Downtown]                   67.0471     29.442      2.277      0.023       9.317     124.777\n",
      "neighbourhood[T.East Boston]                22.3296     32.558      0.686      0.493     -41.509      86.168\n",
      "neighbourhood[T.Fenway]                     68.4561     37.065      1.847      0.065      -4.221     141.133\n",
      "neighbourhood[T.Hyde Park]                 -34.8469     53.751     -0.648      0.517    -140.241      70.547\n",
      "neighbourhood[T.Jamaica Plain]              29.2019     30.501      0.957      0.338     -30.605      89.008\n",
      "neighbourhood[T.Leather District]         1015.3723    148.252      6.849      0.000     724.684    1306.061\n",
      "neighbourhood[T.Longwood Medical Area]      39.3670    133.031      0.296      0.767    -221.476     300.210\n",
      "neighbourhood[T.Mattapan]                  -38.1357     55.645     -0.685      0.493    -147.244      70.972\n",
      "neighbourhood[T.Mission Hill]               48.7148     49.325      0.988      0.323     -48.001     145.431\n",
      "neighbourhood[T.North End]                  35.8771     43.475      0.825      0.409     -49.367     121.122\n",
      "neighbourhood[T.Roslindale]                -22.7053     47.537     -0.478      0.633    -115.915      70.505\n",
      "neighbourhood[T.Roxbury]                    -2.8353     30.928     -0.092      0.927     -63.479      57.808\n",
      "neighbourhood[T.South Boston]               69.5452     34.103      2.039      0.042       2.677     136.414\n",
      "neighbourhood[T.South Boston Waterfront]   117.6046     47.433      2.479      0.013      24.599     210.610\n",
      "neighbourhood[T.South End]                  52.4648     32.248      1.627      0.104     -10.767     115.697\n",
      "neighbourhood[T.West End]                   76.5031     53.738      1.424      0.155     -28.864     181.870\n",
      "neighbourhood[T.West Roxbury]              114.2821     57.015      2.004      0.045       2.489     226.075\n",
      "minimum_nights                              -0.0722      0.123     -0.588      0.557      -0.313       0.169\n",
      "==============================================================================\n",
      "Omnibus:                     7392.091   Durbin-Watson:                   1.170\n",
      "Prob(Omnibus):                  0.000   Jarque-Bera (JB):         96138406.653\n",
      "Skew:                          26.753   Prob(JB):                         0.00\n",
      "Kurtosis:                     885.018   Cond. No.                     1.75e+03\n",
      "==============================================================================\n",
      "\n",
      "Notes:\n",
      "[1] Standard Errors assume that the covariance matrix of the errors is correctly specified.\n",
      "[2] The condition number is large, 1.75e+03. This might indicate that there are\n",
      "strong multicollinearity or other numerical problems.\n"
     ]
    }
   ],
   "source": [
    "print(result2.summary())"
   ]
  },
  {
   "cell_type": "code",
   "execution_count": 138,
   "metadata": {},
   "outputs": [],
   "source": [
    "#MODEL2 INTERPRETATION:\n",
    "#An increase in minimum nights by 1 unit will decrease the price of rental by 0.07 unit of dollar.\n",
    "#Based on p-value, this effect is not significant, holding everything else constant."
   ]
  },
  {
   "cell_type": "code",
   "execution_count": 139,
   "metadata": {},
   "outputs": [],
   "source": [
    "# THIRD MODEL - price ~ neighbourhood + minimum_nights + availability_365\n",
    "result3 = smf.ols('price ~ neighbourhood + minimum_nights + availability_365', data=listings).fit()"
   ]
  },
  {
   "cell_type": "code",
   "execution_count": 140,
   "metadata": {},
   "outputs": [
    {
     "name": "stdout",
     "output_type": "stream",
     "text": [
      "                            OLS Regression Results                            \n",
      "==============================================================================\n",
      "Dep. Variable:                  price   R-squared:                       0.028\n",
      "Model:                            OLS   Adj. R-squared:                  0.019\n",
      "Method:                 Least Squares   F-statistic:                     3.194\n",
      "Date:                Thu, 01 Apr 2021   Prob (F-statistic):           9.49e-08\n",
      "Time:                        21:39:10   Log-Likelihood:                -20960.\n",
      "No. Observations:                2955   AIC:                         4.197e+04\n",
      "Df Residuals:                    2928   BIC:                         4.214e+04\n",
      "Df Model:                          26                                         \n",
      "Covariance Type:            nonrobust                                         \n",
      "============================================================================================================\n",
      "                                               coef    std err          t      P>|t|      [0.025      0.975]\n",
      "------------------------------------------------------------------------------------------------------------\n",
      "Intercept                                  118.0737     25.503      4.630      0.000      68.068     168.080\n",
      "neighbourhood[T.Back Bay]                   61.8903     32.196      1.922      0.055      -1.240     125.020\n",
      "neighbourhood[T.Bay Village]                 1.8178     50.910      0.036      0.972     -98.006     101.642\n",
      "neighbourhood[T.Beacon Hill]                33.0056     35.106      0.940      0.347     -35.830     101.841\n",
      "neighbourhood[T.Brighton]                    4.5755     31.503      0.145      0.885     -57.195      66.346\n",
      "neighbourhood[T.Charlestown]                98.1963     41.490      2.367      0.018      16.843     179.549\n",
      "neighbourhood[T.Chinatown]                  43.3217     51.950      0.834      0.404     -58.541     145.185\n",
      "neighbourhood[T.Dorchester]                 55.4243     28.529      1.943      0.052      -0.514     111.362\n",
      "neighbourhood[T.Downtown]                   71.3050     29.639      2.406      0.016      13.190     129.420\n",
      "neighbourhood[T.East Boston]                24.7910     32.615      0.760      0.447     -39.160      88.742\n",
      "neighbourhood[T.Fenway]                     68.8235     37.063      1.857      0.063      -3.849     141.496\n",
      "neighbourhood[T.Hyde Park]                 -31.4757     53.815     -0.585      0.559    -136.995      74.043\n",
      "neighbourhood[T.Jamaica Plain]              31.1047     30.537      1.019      0.308     -28.772      90.981\n",
      "neighbourhood[T.Leather District]         1021.9149    148.332      6.889      0.000     731.070    1312.760\n",
      "neighbourhood[T.Longwood Medical Area]      32.8544    133.122      0.247      0.805    -228.168     293.877\n",
      "neighbourhood[T.Mattapan]                  -33.6576     55.757     -0.604      0.546    -142.985      75.669\n",
      "neighbourhood[T.Mission Hill]               49.0309     49.321      0.994      0.320     -47.677     145.739\n",
      "neighbourhood[T.North End]                  38.2695     43.514      0.879      0.379     -47.051     123.590\n",
      "neighbourhood[T.Roslindale]                -18.2011     47.671     -0.382      0.703    -111.674      75.272\n",
      "neighbourhood[T.Roxbury]                    -0.5524     30.980     -0.018      0.986     -61.298      60.193\n",
      "neighbourhood[T.South Boston]               70.5342     34.109      2.068      0.039       3.654     137.415\n",
      "neighbourhood[T.South Boston Waterfront]   121.0033     47.508      2.547      0.011      27.851     214.156\n",
      "neighbourhood[T.South End]                  53.6173     32.259      1.662      0.097      -9.635     116.869\n",
      "neighbourhood[T.West End]                   80.4045     53.825      1.494      0.135     -25.133     185.942\n",
      "neighbourhood[T.West Roxbury]              117.2897     57.061      2.056      0.040       5.406     229.173\n",
      "minimum_nights                              -0.0714      0.123     -0.581      0.561      -0.312       0.169\n",
      "availability_365                            -0.0489      0.039     -1.241      0.215      -0.126       0.028\n",
      "==============================================================================\n",
      "Omnibus:                     7385.616   Durbin-Watson:                   1.171\n",
      "Prob(Omnibus):                  0.000   Jarque-Bera (JB):         95530597.378\n",
      "Skew:                          26.695   Prob(JB):                         0.00\n",
      "Kurtosis:                     882.223   Cond. No.                     6.64e+03\n",
      "==============================================================================\n",
      "\n",
      "Notes:\n",
      "[1] Standard Errors assume that the covariance matrix of the errors is correctly specified.\n",
      "[2] The condition number is large, 6.64e+03. This might indicate that there are\n",
      "strong multicollinearity or other numerical problems.\n"
     ]
    }
   ],
   "source": [
    "print(result3.summary())"
   ]
  },
  {
   "cell_type": "code",
   "execution_count": 141,
   "metadata": {},
   "outputs": [],
   "source": [
    "#MODEL3 INTERPRETATION:\n",
    "#An increase in number of listing days by 1 will decrease the price of rental by 0.046 unit of dollar.\n",
    "#Based on p-value, this effect is not very significant, holding everything else constant."
   ]
  },
  {
   "cell_type": "code",
   "execution_count": 142,
   "metadata": {},
   "outputs": [],
   "source": [
    "# FOURTH MODEL - price ~ neighbourhood + minimum_nights + availability_365 + room_type\n",
    "result4 = smf.ols('price ~ neighbourhood + minimum_nights + availability_365 + room_type', data=listings).fit()"
   ]
  },
  {
   "cell_type": "code",
   "execution_count": 143,
   "metadata": {},
   "outputs": [
    {
     "name": "stdout",
     "output_type": "stream",
     "text": [
      "                            OLS Regression Results                            \n",
      "==============================================================================\n",
      "Dep. Variable:                  price   R-squared:                       0.041\n",
      "Model:                            OLS   Adj. R-squared:                  0.031\n",
      "Method:                 Least Squares   F-statistic:                     4.270\n",
      "Date:                Thu, 01 Apr 2021   Prob (F-statistic):           2.40e-13\n",
      "Time:                        21:39:17   Log-Likelihood:                -20940.\n",
      "No. Observations:                2955   AIC:                         4.194e+04\n",
      "Df Residuals:                    2925   BIC:                         4.212e+04\n",
      "Df Model:                          29                                         \n",
      "Covariance Type:            nonrobust                                         \n",
      "============================================================================================================\n",
      "                                               coef    std err          t      P>|t|      [0.025      0.975]\n",
      "------------------------------------------------------------------------------------------------------------\n",
      "Intercept                                  160.7480     26.271      6.119      0.000     109.237     212.259\n",
      "neighbourhood[T.Back Bay]                   20.0557     32.694      0.613      0.540     -44.050      84.162\n",
      "neighbourhood[T.Bay Village]                -0.4824     50.629     -0.010      0.992     -99.754      98.789\n",
      "neighbourhood[T.Beacon Hill]                -4.0695     35.397     -0.115      0.908     -73.476      65.337\n",
      "neighbourhood[T.Brighton]                   -7.5367     31.398     -0.240      0.810     -69.100      54.027\n",
      "neighbourhood[T.Charlestown]                71.0725     41.466      1.714      0.087     -10.234     152.379\n",
      "neighbourhood[T.Chinatown]                   1.9331     52.058      0.037      0.970    -100.140     104.006\n",
      "neighbourhood[T.Dorchester]                 62.7536     28.380      2.211      0.027       7.106     118.401\n",
      "neighbourhood[T.Downtown]                   33.6899     30.057      1.121      0.262     -25.246      92.626\n",
      "neighbourhood[T.East Boston]                 3.5944     32.596      0.110      0.912     -60.319      67.508\n",
      "neighbourhood[T.Fenway]                     45.2790     37.029      1.223      0.222     -27.326     117.884\n",
      "neighbourhood[T.Hyde Park]                 -29.8292     53.484     -0.558      0.577    -134.699      75.041\n",
      "neighbourhood[T.Jamaica Plain]              19.8678     30.400      0.654      0.513     -39.740      79.475\n",
      "neighbourhood[T.Leather District]          975.5303    147.598      6.609      0.000     686.125    1264.936\n",
      "neighbourhood[T.Longwood Medical Area]      34.5398    132.297      0.261      0.794    -224.865     293.944\n",
      "neighbourhood[T.Mattapan]                  -16.0221     55.483     -0.289      0.773    -124.813      92.768\n",
      "neighbourhood[T.Mission Hill]               39.5975     49.060      0.807      0.420     -56.598     135.793\n",
      "neighbourhood[T.North End]                   7.3186     43.531      0.168      0.866     -78.036      92.673\n",
      "neighbourhood[T.Roslindale]                -16.5850     47.379     -0.350      0.726    -109.484      76.314\n",
      "neighbourhood[T.Roxbury]                     3.6324     30.795      0.118      0.906     -56.750      64.015\n",
      "neighbourhood[T.South Boston]               48.7431     34.083      1.430      0.153     -18.086     115.572\n",
      "neighbourhood[T.South Boston Waterfront]    79.5615     47.680      1.669      0.095     -13.927     173.050\n",
      "neighbourhood[T.South End]                  22.3232     32.454      0.688      0.492     -41.311      85.958\n",
      "neighbourhood[T.West End]                   45.6148     53.783      0.848      0.396     -59.843     151.072\n",
      "neighbourhood[T.West Roxbury]              105.4276     56.796      1.856      0.064      -5.937     216.793\n",
      "room_type[T.Hotel room]                     31.3029     61.662      0.508      0.612     -89.603     152.209\n",
      "room_type[T.Private room]                  -78.8764     12.617     -6.251      0.000    -103.616     -54.137\n",
      "room_type[T.Shared room]                   -43.3483     97.789     -0.443      0.658    -235.090     148.393\n",
      "minimum_nights                              -0.0175      0.123     -0.142      0.887      -0.258       0.223\n",
      "availability_365                            -0.0475      0.039     -1.213      0.225      -0.124       0.029\n",
      "==============================================================================\n",
      "Omnibus:                     7469.181   Durbin-Watson:                   1.170\n",
      "Prob(Omnibus):                  0.000   Jarque-Bera (JB):        103199109.819\n",
      "Skew:                          27.456   Prob(JB):                         0.00\n",
      "Kurtosis:                     916.865   Cond. No.                     6.66e+03\n",
      "==============================================================================\n",
      "\n",
      "Notes:\n",
      "[1] Standard Errors assume that the covariance matrix of the errors is correctly specified.\n",
      "[2] The condition number is large, 6.66e+03. This might indicate that there are\n",
      "strong multicollinearity or other numerical problems.\n"
     ]
    }
   ],
   "source": [
    "print(result4.summary())"
   ]
  },
  {
   "cell_type": "code",
   "execution_count": 144,
   "metadata": {},
   "outputs": [],
   "source": [
    "#MODEL4 INTERPRETATION: There is no significant effect to claim that renting a hotel room type or a shared room type will increase or decrease the rental price.\n",
    "#However, renting private room type significantly decrease rental price by 78.88 unit of dollar."
   ]
  },
  {
   "cell_type": "code",
   "execution_count": 160,
   "metadata": {},
   "outputs": [
    {
     "name": "stdout",
     "output_type": "stream",
     "text": [
      "The parameters are: \n",
      " Intercept                                   160.747977\n",
      "neighbourhood[T.Back Bay]                    20.055740\n",
      "neighbourhood[T.Bay Village]                 -0.482361\n",
      "neighbourhood[T.Beacon Hill]                 -4.069532\n",
      "neighbourhood[T.Brighton]                    -7.536723\n",
      "neighbourhood[T.Charlestown]                 71.072465\n",
      "neighbourhood[T.Chinatown]                    1.933105\n",
      "neighbourhood[T.Dorchester]                  62.753611\n",
      "neighbourhood[T.Downtown]                    33.689943\n",
      "neighbourhood[T.East Boston]                  3.594379\n",
      "neighbourhood[T.Fenway]                      45.279029\n",
      "neighbourhood[T.Hyde Park]                  -29.829197\n",
      "neighbourhood[T.Jamaica Plain]               19.867782\n",
      "neighbourhood[T.Leather District]           975.530314\n",
      "neighbourhood[T.Longwood Medical Area]       34.539781\n",
      "neighbourhood[T.Mattapan]                   -16.022103\n",
      "neighbourhood[T.Mission Hill]                39.597494\n",
      "neighbourhood[T.North End]                    7.318577\n",
      "neighbourhood[T.Roslindale]                 -16.585003\n",
      "neighbourhood[T.Roxbury]                      3.632443\n",
      "neighbourhood[T.South Boston]                48.743124\n",
      "neighbourhood[T.South Boston Waterfront]     79.561503\n",
      "neighbourhood[T.South End]                   22.323163\n",
      "neighbourhood[T.West End]                    45.614837\n",
      "neighbourhood[T.West Roxbury]               105.427616\n",
      "room_type[T.Hotel room]                      31.302871\n",
      "room_type[T.Private room]                   -78.876423\n",
      "room_type[T.Shared room]                    -43.348257\n",
      "minimum_nights                               -0.017489\n",
      "availability_365                             -0.047543\n",
      "dtype: float64 \n",
      "\n",
      "The confidence intervals are:\n",
      "                                                    0            1\n",
      "Intercept                                 109.237232   212.258722\n",
      "neighbourhood[T.Back Bay]                 -44.050065    84.161545\n",
      "neighbourhood[T.Bay Village]              -99.753698    98.788976\n",
      "neighbourhood[T.Beacon Hill]              -73.475736    65.336671\n",
      "neighbourhood[T.Brighton]                 -69.100489    54.027044\n",
      "neighbourhood[T.Charlestown]              -10.233867   152.378798\n",
      "neighbourhood[T.Chinatown]               -100.139969   104.006178\n",
      "neighbourhood[T.Dorchester]                 7.106173   118.401048\n",
      "neighbourhood[T.Downtown]                 -25.245972    92.625858\n",
      "neighbourhood[T.East Boston]              -60.318977    67.507734\n",
      "neighbourhood[T.Fenway]                   -27.325934   117.883991\n",
      "neighbourhood[T.Hyde Park]               -134.699161    75.040767\n",
      "neighbourhood[T.Jamaica Plain]            -39.739741    79.475306\n",
      "neighbourhood[T.Leather District]         686.124661  1264.935968\n",
      "neighbourhood[T.Longwood Medical Area]   -224.864515   293.944077\n",
      "neighbourhood[T.Mattapan]                -124.812527    92.768321\n",
      "neighbourhood[T.Mission Hill]             -56.597795   135.792782\n",
      "neighbourhood[T.North End]                -78.035837    92.672991\n",
      "neighbourhood[T.Roslindale]              -109.484146    76.314140\n",
      "neighbourhood[T.Roxbury]                  -56.749782    64.014668\n",
      "neighbourhood[T.South Boston]             -18.085970   115.572219\n",
      "neighbourhood[T.South Boston Waterfront]  -13.927357   173.050363\n",
      "neighbourhood[T.South End]                -41.311250    85.957576\n",
      "neighbourhood[T.West End]                 -59.842520   151.072195\n",
      "neighbourhood[T.West Roxbury]              -5.937336   216.792568\n",
      "room_type[T.Hotel room]                   -89.602903   152.208645\n",
      "room_type[T.Private room]                -103.616333   -54.136513\n",
      "room_type[T.Shared room]                 -235.089928   148.393413\n",
      "minimum_nights                             -0.258177     0.223199\n",
      "availability_365                           -0.124400     0.029315 \n",
      "\n",
      "The r-sqared is: 0.04061648061534717\n"
     ]
    }
   ],
   "source": [
    "#To only show Parameters, Intercepts, Confidence Intervals, and R-sqared\n",
    "print('The parameters are: \\n', result4.params, '\\n')\n",
    "print('The confidence intervals are:\\n', result4.conf_int(), '\\n')\n",
    "print('The r-sqared is:', result4.rsquared)"
   ]
  },
  {
   "cell_type": "code",
   "execution_count": 146,
   "metadata": {},
   "outputs": [],
   "source": [
    "#CONCLUSION\n",
    "#After controlling for minimum_nights and availability_365, the model still shows significant relation between price and Leather District neighbourhood.\n",
    "#Therefore, we can say that Listings belonging to neighbourhood Leather District had a significant increase in rental price by 1015 unit of dollar, holding other variable constant\n",
    "#Additionally, the coefficient between price and minimum_nights shows that increase in number of minimum night will decrease the price of the rental.\n",
    "#Another coefficient also shows that the higher the number of listing days will decrease the price of the rental.\n",
    "#This is not a perfect model because many coefficients do not have a significant level. The data also has issues, such as missing values, and outliers."
   ]
  },
  {
   "cell_type": "code",
   "execution_count": 147,
   "metadata": {},
   "outputs": [],
   "source": [
    "#Time to TRANSFORMING DATA"
   ]
  },
  {
   "cell_type": "code",
   "execution_count": 161,
   "metadata": {},
   "outputs": [
    {
     "data": {
      "image/png": "[encoded data removed]",
      "text/plain": [
       "<Figure size 720x432 with 1 Axes>"
      ]
     },
     "metadata": {
      "needs_background": "light"
     },
     "output_type": "display_data"
    }
   ],
   "source": [
    "#To create a scatter plot of price and neighbourhood\n",
    "fig, ax = plt.subplots(figsize=(10,6))\n",
    "\n",
    "ax.scatter(listings['neighbourhood'], listings['price'], marker='o', alpha = 0.5 )\n",
    "\n",
    "ax.set_xlabel('Neighbourhood name', fontsize=16)\n",
    "ax.set_ylabel('Rental price', fontsize=16)\n",
    "\n",
    "ax.spines['right'].set_visible(False)\n",
    "ax.spines['top'].set_visible(False)\n",
    "\n",
    "ax.tick_params(axis='x', rotation=90)\n",
    "ax.tick_params(axis='y', rotation=90)"
   ]
  },
  {
   "cell_type": "code",
   "execution_count": 162,
   "metadata": {},
   "outputs": [
    {
     "name": "stdout",
     "output_type": "stream",
     "text": [
      "                      Does neighbourhood affect rental price?\n",
      "===================================================================================\n",
      "                                          Model 1    Model 2    Model 3    model 4 \n",
      "-----------------------------------------------------------------------------------\n",
      "Intercept                                107.35***  111.60***  118.07***  160.75***\n",
      "                                         (23.89)    (24.97)    (25.50)    (26.27)  \n",
      "minimum_nights                                      -0.07      -0.07      -0.02    \n",
      "                                                    (0.12)     (0.12)     (0.12)   \n",
      "availability_365                                               -0.05      -0.05    \n",
      "                                                               (0.04)     (0.04)   \n",
      "room_type[T.Shared room]                                                  -43.35   \n",
      "                                                                          (97.79)  \n",
      "neighbourhood[T.Dorchester]              52.77*     51.35*     55.42*     62.75**  \n",
      "                                         (28.24)    (28.34)    (28.53)    (28.38)  \n",
      "neighbourhood[T.Roxbury]                 -2.07      -2.84      -0.55      3.63     \n",
      "                                         (30.90)    (30.93)    (30.98)    (30.80)  \n",
      "neighbourhood[T.Hyde Park]               -33.67     -34.85     -31.48     -29.83   \n",
      "                                         (53.71)    (53.75)    (53.82)    (53.48)  \n",
      "neighbourhood[T.West End]                77.44      76.50      80.40      45.61    \n",
      "                                         (53.71)    (53.74)    (53.82)    (53.78)  \n",
      "neighbourhood[T.Brighton]                0.22       -0.03      4.58       -7.54    \n",
      "                                         (31.28)    (31.29)    (31.50)    (31.40)  \n",
      "neighbourhood[T.Mission Hill]            48.26      48.71      49.03      39.60    \n",
      "                                         (49.31)    (49.33)    (49.32)    (49.06)  \n",
      "neighbourhood[T.Charlestown]             97.53**    96.07**    98.20**    71.07*   \n",
      "                                         (41.38)    (41.46)    (41.49)    (41.47)  \n",
      "neighbourhood[T.South Boston Waterfront] 117.67**   117.60**   121.00**   79.56*   \n",
      "                                         (47.43)    (47.43)    (47.51)    (47.68)  \n",
      "room_type[T.Hotel room]                                                   31.30    \n",
      "                                                                          (61.66)  \n",
      "room_type[T.Private room]                                                 -78.88***\n",
      "                                                                          (12.62)  \n",
      "neighbourhood[T.Chinatown]               37.36      36.01      43.32      1.93     \n",
      "                                         (51.56)    (51.62)    (51.95)    (52.06)  \n",
      "neighbourhood[T.South Boston]            70.94**    69.55**    70.53**    48.74    \n",
      "                                         (34.02)    (34.10)    (34.11)    (34.08)  \n",
      "neighbourhood[T.Bay Village]             6.72       3.61       1.82       -0.48    \n",
      "                                         (50.61)    (50.89)    (50.91)    (50.63)  \n",
      "neighbourhood[T.Leather District]        1015.15*** 1015.37*** 1021.91*** 975.53***\n",
      "                                         (148.23)   (148.25)   (148.33)   (147.60) \n",
      "neighbourhood[T.East Boston]             23.28      22.33      24.79      3.59     \n",
      "                                         (32.51)    (32.56)    (32.62)    (32.60)  \n",
      "neighbourhood[T.Beacon Hill]             33.30      31.74      33.01      -4.07    \n",
      "                                         (34.99)    (35.09)    (35.11)    (35.40)  \n",
      "neighbourhood[T.Downtown]                68.87**    67.05**    71.31**    33.69    \n",
      "                                         (29.28)    (29.44)    (29.64)    (30.06)  \n",
      "neighbourhood[T.Mattapan]                -36.58     -38.14     -33.66     -16.02   \n",
      "                                         (55.58)    (55.65)    (55.76)    (55.48)  \n",
      "neighbourhood[T.Longwood Medical Area]   39.65      39.37      32.85      34.54    \n",
      "                                         (133.01)   (133.03)   (133.12)   (132.30) \n",
      "neighbourhood[T.Back Bay]                62.41*     61.08*     61.89*     20.06    \n",
      "                                         (32.11)    (32.19)    (32.20)    (32.69)  \n",
      "neighbourhood[T.Roslindale]              -20.86     -22.71     -18.20     -16.59   \n",
      "                                         (47.43)    (47.54)    (47.67)    (47.38)  \n",
      "neighbourhood[T.Fenway]                  69.42*     68.46*     68.82*     45.28    \n",
      "                                         (37.02)    (37.07)    (37.06)    (37.03)  \n",
      "neighbourhood[T.West Roxbury]            115.43**   114.28**   117.29**   105.43*  \n",
      "                                         (56.97)    (57.01)    (57.06)    (56.80)  \n",
      "neighbourhood[T.North End]               36.67      35.88      38.27      7.32     \n",
      "                                         (43.45)    (43.47)    (43.51)    (43.53)  \n",
      "neighbourhood[T.Jamaica Plain]           30.40      29.20      31.10      19.87    \n",
      "                                         (30.43)    (30.50)    (30.54)    (30.40)  \n",
      "neighbourhood[T.South End]               54.43*     52.46      53.62*     22.32    \n",
      "                                         (32.07)    (32.25)    (32.26)    (32.45)  \n",
      "R-squared                                0.03       0.03       0.03       0.04     \n",
      "R-squared Adj.                           0.02       0.02       0.02       0.03     \n",
      "===================================================================================\n",
      "Standard errors in parentheses.\n",
      "* p<.1, ** p<.05, ***p<.01\n"
     ]
    }
   ],
   "source": [
    "#COMBINE ALL THREE MODELS TOGETHER\n",
    "from statsmodels.iolib.summary2 import summary_col #create regression table for your report\n",
    "\n",
    "table = summary_col(\n",
    "    [result1, result2, result3, result4], #results of the fitted models\n",
    "    model_names = ['Model 1', 'Model 2', 'Model 3', 'model 4'], #models fitted above\n",
    "    stars=True, #level of significance\n",
    "    regressor_order = ['Intercept', 'price', 'neighbourhood', 'minimum_nights', 'availability_365', 'room_type'], #order of explanatory vars in the table\n",
    "    float_format='%0.2f', \n",
    "    drop_omitted = False #\n",
    "    )\n",
    "\n",
    "table.add_title('Does neighbourhood affect rental price?')\n",
    "#table.add_text('any other table info...') #add other table info to be printed with the table\n",
    "\n",
    "print(table.as_text())\n",
    "\n",
    "# The 'w' is for 'write'.\n",
    "fout = open('table1.txt', 'w')\n",
    "fout.write(table.as_text()) #can export as text, latex or html\n",
    "fout.close()"
   ]
  },
  {
   "cell_type": "code",
   "execution_count": 163,
   "metadata": {},
   "outputs": [
    {
     "data": {
      "image/png": "[encoded data removed]",
      "text/plain": [
       "<Figure size 432x288 with 1 Axes>"
      ]
     },
     "metadata": {
      "needs_background": "light"
     },
     "output_type": "display_data"
    }
   ],
   "source": [
    "resid1=result1.resid.plot()"
   ]
  },
  {
   "cell_type": "code",
   "execution_count": 164,
   "metadata": {},
   "outputs": [
    {
     "data": {
      "image/png": "[encoded data removed]",
      "text/plain": [
       "<Figure size 432x288 with 1 Axes>"
      ]
     },
     "metadata": {
      "needs_background": "light"
     },
     "output_type": "display_data"
    }
   ],
   "source": [
    "resid2=result2.resid.plot()"
   ]
  },
  {
   "cell_type": "code",
   "execution_count": 165,
   "metadata": {},
   "outputs": [
    {
     "data": {
      "image/png": "[encoded data removed]",
      "text/plain": [
       "<Figure size 432x288 with 1 Axes>"
      ]
     },
     "metadata": {
      "needs_background": "light"
     },
     "output_type": "display_data"
    }
   ],
   "source": [
    "resid3=result3.resid.plot()"
   ]
  },
  {
   "cell_type": "code",
   "execution_count": 166,
   "metadata": {},
   "outputs": [
    {
     "data": {
      "image/png": "[encoded data removed]",
      "text/plain": [
       "<Figure size 432x288 with 1 Axes>"
      ]
     },
     "metadata": {
      "needs_background": "light"
     },
     "output_type": "display_data"
    }
   ],
   "source": [
    "resid4=result4.resid.plot()"
   ]
  },
  {
   "cell_type": "code",
   "execution_count": 167,
   "metadata": {},
   "outputs": [
    {
     "data": {
      "text/html": [
       "<div>\n",
       "<style scoped>\n",
       "    .dataframe tbody tr th:only-of-type {\n",
       "        vertical-align: middle;\n",
       "    }\n",
       "\n",
       "    .dataframe tbody tr th {\n",
       "        vertical-align: top;\n",
       "    }\n",
       "\n",
       "    .dataframe thead th {\n",
       "        text-align: right;\n",
       "    }\n",
       "</style>\n",
       "<table border=\"1\" class=\"dataframe\">\n",
       "  <thead>\n",
       "    <tr style=\"text-align: right;\">\n",
       "      <th></th>\n",
       "      <th>id</th>\n",
       "      <th>host_id</th>\n",
       "      <th>latitude</th>\n",
       "      <th>longitude</th>\n",
       "      <th>price</th>\n",
       "      <th>minimum_nights</th>\n",
       "      <th>number_of_reviews</th>\n",
       "      <th>reviews_per_month</th>\n",
       "      <th>calculated_host_listings_count</th>\n",
       "      <th>availability_365</th>\n",
       "      <th>num_missing</th>\n",
       "    </tr>\n",
       "  </thead>\n",
       "  <tbody>\n",
       "    <tr>\n",
       "      <th>count</th>\n",
       "      <td>2.955000e+03</td>\n",
       "      <td>2.955000e+03</td>\n",
       "      <td>2955.000000</td>\n",
       "      <td>2955.000000</td>\n",
       "      <td>2955.000000</td>\n",
       "      <td>2955.000000</td>\n",
       "      <td>2955.000000</td>\n",
       "      <td>2955.000000</td>\n",
       "      <td>2955.000000</td>\n",
       "      <td>2955.000000</td>\n",
       "      <td>2955.000000</td>\n",
       "    </tr>\n",
       "    <tr>\n",
       "      <th>mean</th>\n",
       "      <td>2.867347e+07</td>\n",
       "      <td>1.088360e+08</td>\n",
       "      <td>42.337661</td>\n",
       "      <td>-71.082292</td>\n",
       "      <td>148.797293</td>\n",
       "      <td>42.637902</td>\n",
       "      <td>37.130288</td>\n",
       "      <td>1.206267</td>\n",
       "      <td>20.147208</td>\n",
       "      <td>183.891709</td>\n",
       "      <td>1.596954</td>\n",
       "    </tr>\n",
       "    <tr>\n",
       "      <th>std</th>\n",
       "      <td>1.482200e+07</td>\n",
       "      <td>1.162013e+08</td>\n",
       "      <td>0.026687</td>\n",
       "      <td>0.032935</td>\n",
       "      <td>295.411137</td>\n",
       "      <td>44.666107</td>\n",
       "      <td>69.867872</td>\n",
       "      <td>1.596186</td>\n",
       "      <td>33.718763</td>\n",
       "      <td>140.973808</td>\n",
       "      <td>0.915335</td>\n",
       "    </tr>\n",
       "    <tr>\n",
       "      <th>min</th>\n",
       "      <td>3.781000e+03</td>\n",
       "      <td>4.804000e+03</td>\n",
       "      <td>42.235200</td>\n",
       "      <td>-71.173440</td>\n",
       "      <td>19.000000</td>\n",
       "      <td>1.000000</td>\n",
       "      <td>0.000000</td>\n",
       "      <td>0.010000</td>\n",
       "      <td>1.000000</td>\n",
       "      <td>0.000000</td>\n",
       "      <td>1.000000</td>\n",
       "    </tr>\n",
       "    <tr>\n",
       "      <th>25%</th>\n",
       "      <td>1.627635e+07</td>\n",
       "      <td>1.610356e+07</td>\n",
       "      <td>42.320935</td>\n",
       "      <td>-71.102695</td>\n",
       "      <td>70.000000</td>\n",
       "      <td>2.000000</td>\n",
       "      <td>0.000000</td>\n",
       "      <td>0.410000</td>\n",
       "      <td>1.000000</td>\n",
       "      <td>41.500000</td>\n",
       "      <td>1.000000</td>\n",
       "    </tr>\n",
       "    <tr>\n",
       "      <th>50%</th>\n",
       "      <td>3.031250e+07</td>\n",
       "      <td>4.849451e+07</td>\n",
       "      <td>42.344780</td>\n",
       "      <td>-71.072190</td>\n",
       "      <td>110.000000</td>\n",
       "      <td>29.000000</td>\n",
       "      <td>6.000000</td>\n",
       "      <td>0.780000</td>\n",
       "      <td>5.000000</td>\n",
       "      <td>179.000000</td>\n",
       "      <td>1.000000</td>\n",
       "    </tr>\n",
       "    <tr>\n",
       "      <th>75%</th>\n",
       "      <td>4.246326e+07</td>\n",
       "      <td>1.966313e+08</td>\n",
       "      <td>42.355190</td>\n",
       "      <td>-71.060475</td>\n",
       "      <td>174.000000</td>\n",
       "      <td>91.000000</td>\n",
       "      <td>40.000000</td>\n",
       "      <td>1.365000</td>\n",
       "      <td>20.000000</td>\n",
       "      <td>334.000000</td>\n",
       "      <td>3.000000</td>\n",
       "    </tr>\n",
       "    <tr>\n",
       "      <th>max</th>\n",
       "      <td>4.823128e+07</td>\n",
       "      <td>3.881499e+08</td>\n",
       "      <td>42.393720</td>\n",
       "      <td>-70.997010</td>\n",
       "      <td>10000.000000</td>\n",
       "      <td>1000.000000</td>\n",
       "      <td>592.000000</td>\n",
       "      <td>26.850000</td>\n",
       "      <td>134.000000</td>\n",
       "      <td>365.000000</td>\n",
       "      <td>3.000000</td>\n",
       "    </tr>\n",
       "  </tbody>\n",
       "</table>\n",
       "</div>"
      ],
      "text/plain": [
       "                 id       host_id     latitude    longitude         price  \\\n",
       "count  2.955000e+03  2.955000e+03  2955.000000  2955.000000   2955.000000   \n",
       "mean   2.867347e+07  1.088360e+08    42.337661   -71.082292    148.797293   \n",
       "std    1.482200e+07  1.162013e+08     0.026687     0.032935    295.411137   \n",
       "min    3.781000e+03  4.804000e+03    42.235200   -71.173440     19.000000   \n",
       "25%    1.627635e+07  1.610356e+07    42.320935   -71.102695     70.000000   \n",
       "50%    3.031250e+07  4.849451e+07    42.344780   -71.072190    110.000000   \n",
       "75%    4.246326e+07  1.966313e+08    42.355190   -71.060475    174.000000   \n",
       "max    4.823128e+07  3.881499e+08    42.393720   -70.997010  10000.000000   \n",
       "\n",
       "       minimum_nights  number_of_reviews  reviews_per_month  \\\n",
       "count     2955.000000        2955.000000        2955.000000   \n",
       "mean        42.637902          37.130288           1.206267   \n",
       "std         44.666107          69.867872           1.596186   \n",
       "min          1.000000           0.000000           0.010000   \n",
       "25%          2.000000           0.000000           0.410000   \n",
       "50%         29.000000           6.000000           0.780000   \n",
       "75%         91.000000          40.000000           1.365000   \n",
       "max       1000.000000         592.000000          26.850000   \n",
       "\n",
       "       calculated_host_listings_count  availability_365  num_missing  \n",
       "count                     2955.000000       2955.000000  2955.000000  \n",
       "mean                        20.147208        183.891709     1.596954  \n",
       "std                         33.718763        140.973808     0.915335  \n",
       "min                          1.000000          0.000000     1.000000  \n",
       "25%                          1.000000         41.500000     1.000000  \n",
       "50%                          5.000000        179.000000     1.000000  \n",
       "75%                         20.000000        334.000000     3.000000  \n",
       "max                        134.000000        365.000000     3.000000  "
      ]
     },
     "execution_count": 167,
     "metadata": {},
     "output_type": "execute_result"
    }
   ],
   "source": [
    "#Show descriptive statistic in form of a table \n",
    "listings.describe()"
   ]
  },
  {
   "cell_type": "code",
   "execution_count": null,
   "metadata": {},
   "outputs": [],
   "source": []
  },
  {
   "cell_type": "code",
   "execution_count": null,
   "metadata": {},
   "outputs": [],
   "source": []
  }
 ],
 "metadata": {
  "kernelspec": {
   "display_name": "Python 3",
   "language": "python",
   "name": "python3"
  },
  "language_info": {
   "codemirror_mode": {
    "name": "ipython",
    "version": 3
   },
   "file_extension": ".py",
   "mimetype": "text/x-python",
   "name": "python",
   "nbconvert_exporter": "python",
   "pygments_lexer": "ipython3",
   "version": "3.8.5"
  }
 },
 "nbformat": 4,
 "nbformat_minor": 4
}
